{
 "cells": [
  {
   "cell_type": "markdown",
   "id": "0883a6a3",
   "metadata": {},
   "source": [
    "# Machine Learning"
   ]
  },
  {
   "cell_type": "code",
   "execution_count": 1,
   "id": "2edf501f",
   "metadata": {},
   "outputs": [],
   "source": [
    "# Imports\n",
    "import pandas as pd\n",
    "import numpy as np\n",
    "from sklearn.compose import make_column_selector, ColumnTransformer\n",
    "from sklearn.preprocessing import OneHotEncoder, StandardScaler\n",
    "from sklearn.model_selection import cross_validate, train_test_split\n",
    "from sklearn.linear_model import LogisticRegression\n",
    "from sklearn.pipeline import make_pipeline\n",
    "from sklearn.ensemble import GradientBoostingClassifier\n",
    "from sklearn.metrics import ConfusionMatrixDisplay"
   ]
  },
  {
   "cell_type": "code",
   "execution_count": 2,
   "id": "9eab9a76",
   "metadata": {},
   "outputs": [],
   "source": [
    "# Load data\n",
    "tokens = pd.read_parquet('tokens.gzip')"
   ]
  },
  {
   "cell_type": "code",
   "execution_count": 3,
   "id": "7948fcf8",
   "metadata": {},
   "outputs": [
    {
     "data": {
      "text/html": [
       "<div>\n",
       "<style scoped>\n",
       "    .dataframe tbody tr th:only-of-type {\n",
       "        vertical-align: middle;\n",
       "    }\n",
       "\n",
       "    .dataframe tbody tr th {\n",
       "        vertical-align: top;\n",
       "    }\n",
       "\n",
       "    .dataframe thead th {\n",
       "        text-align: right;\n",
       "    }\n",
       "</style>\n",
       "<table border=\"1\" class=\"dataframe\">\n",
       "  <thead>\n",
       "    <tr style=\"text-align: right;\">\n",
       "      <th></th>\n",
       "      <th>type</th>\n",
       "      <th>num_attrs</th>\n",
       "      <th>attribute0</th>\n",
       "      <th>attribute1</th>\n",
       "      <th>attribute2</th>\n",
       "      <th>attribute3</th>\n",
       "      <th>attribute4</th>\n",
       "      <th>attribute5</th>\n",
       "      <th>attribute6</th>\n",
       "      <th>lastprofit</th>\n",
       "    </tr>\n",
       "  </thead>\n",
       "  <tbody>\n",
       "    <tr>\n",
       "      <th>0</th>\n",
       "      <td>Female</td>\n",
       "      <td>3</td>\n",
       "      <td>Blonde Bob</td>\n",
       "      <td>Earring</td>\n",
       "      <td>Green Eye Shadow</td>\n",
       "      <td></td>\n",
       "      <td></td>\n",
       "      <td></td>\n",
       "      <td></td>\n",
       "      <td>nil</td>\n",
       "    </tr>\n",
       "    <tr>\n",
       "      <th>1</th>\n",
       "      <td>Male</td>\n",
       "      <td>2</td>\n",
       "      <td>Mohawk</td>\n",
       "      <td>Smile</td>\n",
       "      <td></td>\n",
       "      <td></td>\n",
       "      <td></td>\n",
       "      <td></td>\n",
       "      <td></td>\n",
       "      <td>profit</td>\n",
       "    </tr>\n",
       "    <tr>\n",
       "      <th>2</th>\n",
       "      <td>Female</td>\n",
       "      <td>1</td>\n",
       "      <td>Wild Hair</td>\n",
       "      <td></td>\n",
       "      <td></td>\n",
       "      <td></td>\n",
       "      <td></td>\n",
       "      <td></td>\n",
       "      <td></td>\n",
       "      <td>nil</td>\n",
       "    </tr>\n",
       "    <tr>\n",
       "      <th>3</th>\n",
       "      <td>Male</td>\n",
       "      <td>3</td>\n",
       "      <td>Nerd Glasses</td>\n",
       "      <td>Pipe</td>\n",
       "      <td>Wild Hair</td>\n",
       "      <td></td>\n",
       "      <td></td>\n",
       "      <td></td>\n",
       "      <td></td>\n",
       "      <td>nil</td>\n",
       "    </tr>\n",
       "    <tr>\n",
       "      <th>4</th>\n",
       "      <td>Male</td>\n",
       "      <td>4</td>\n",
       "      <td>Big Shades</td>\n",
       "      <td>Earring</td>\n",
       "      <td>Goat</td>\n",
       "      <td>Wild Hair</td>\n",
       "      <td></td>\n",
       "      <td></td>\n",
       "      <td></td>\n",
       "      <td>nil</td>\n",
       "    </tr>\n",
       "  </tbody>\n",
       "</table>\n",
       "</div>"
      ],
      "text/plain": [
       "     type  num_attrs    attribute0 attribute1        attribute2 attribute3  \\\n",
       "0  Female          3    Blonde Bob    Earring  Green Eye Shadow              \n",
       "1    Male          2        Mohawk      Smile                                \n",
       "2  Female          1     Wild Hair                                           \n",
       "3    Male          3  Nerd Glasses       Pipe         Wild Hair              \n",
       "4    Male          4    Big Shades    Earring              Goat  Wild Hair   \n",
       "\n",
       "  attribute4 attribute5 attribute6 lastprofit  \n",
       "0                                         nil  \n",
       "1                                      profit  \n",
       "2                                         nil  \n",
       "3                                         nil  \n",
       "4                                         nil  "
      ]
     },
     "execution_count": 3,
     "metadata": {},
     "output_type": "execute_result"
    }
   ],
   "source": [
    "# create data\n",
    "tokens_only = tokens.drop(['close2017','close2018','close2019','close2020','close2021'], axis = 1)\n",
    "profit_2018 = (tokens['close2018'] - tokens['close2017']).apply(lambda x : \"profit\" if (x>0) else (\"loss\" if x < 0 else \"nil\")).rename(\"lastprofit\")\n",
    "profit_2019 = (tokens['close2019'] - tokens['close2018']).apply(lambda x : \"profit\" if (x>0) else (\"loss\" if x < 0 else \"nil\")).rename(\"lastprofit\")\n",
    "profit_2020 = (tokens['close2020'] - tokens['close2019']).apply(lambda x : \"profit\" if (x>0) else (\"loss\" if x < 0 else \"nil\")).rename(\"lastprofit\")\n",
    "\n",
    "tokens_2019 = tokens_only.join(profit_2018)\n",
    "tokens_2020 = tokens_only.join(profit_2019)\n",
    "\n",
    "tokens_2020.head()"
   ]
  },
  {
   "cell_type": "code",
   "execution_count": 4,
   "id": "f4adc1ff",
   "metadata": {},
   "outputs": [],
   "source": [
    "# setup columns\n",
    "num_col_selector = make_column_selector(dtype_exclude=object)\n",
    "cat_col_selector = make_column_selector(dtype_include=object)\n",
    "\n",
    "num_cols = num_col_selector(tokens_2020)\n",
    "cat_cols = cat_col_selector(tokens_2020)\n",
    "\n",
    "# preprocess columns\n",
    "cat_preproc = OneHotEncoder(handle_unknown=\"ignore\")\n",
    "num_preproc = StandardScaler()\n",
    "\n",
    "# create preprocessing pipeline\n",
    "preproc = ColumnTransformer([\n",
    "    ('one-hot-encoder', cat_preproc, cat_cols),\n",
    "    ('standard_scaler', num_preproc, num_cols)])"
   ]
  },
  {
   "cell_type": "markdown",
   "id": "5e7045a5",
   "metadata": {},
   "source": [
    "# Expt1"
   ]
  },
  {
   "cell_type": "code",
   "execution_count": 5,
   "id": "4781a951",
   "metadata": {},
   "outputs": [
    {
     "name": "stdout",
     "output_type": "stream",
     "text": [
      "The mean cross-validation accuracy is: 0.621 +/- 0.024\n",
      "model score: 0.6378\n"
     ]
    },
    {
     "data": {
      "text/plain": [
       "<sklearn.metrics._plot.confusion_matrix.ConfusionMatrixDisplay at 0x7f2a201f68e0>"
      ]
     },
     "execution_count": 5,
     "metadata": {},
     "output_type": "execute_result"
    },
    {
     "data": {
      "image/png": "[encoded data removed]",
      "text/plain": [
       "<Figure size 432x288 with 2 Axes>"
      ]
     },
     "metadata": {
      "needs_background": "light"
     },
     "output_type": "display_data"
    }
   ],
   "source": [
    "# create logistic regression pipeline\n",
    "model = make_pipeline(preproc, LogisticRegression(max_iter=500, class_weight = 'balanced'))\n",
    "\n",
    "# cross-validation\n",
    "cv = cross_validate(model, tokens_2020, profit_2020, cv = 5)\n",
    "scores = cv[\"test_score\"]\n",
    "print(\"The mean cross-validation accuracy is: \"\n",
    "      f\"{scores.mean():.3f} +/- {scores.std():.3f}\")\n",
    "\n",
    "# fit the model to 2019 data\n",
    "model.fit(tokens_2019, profit_2019)\n",
    "\n",
    "# score the model on 2020 data\n",
    "print(f\"model score: {model.score(tokens_2020, profit_2020)}\")\n",
    "\n",
    "# confusion matrix\n",
    "ConfusionMatrixDisplay.from_estimator(model, tokens_2020, profit_2020)"
   ]
  },
  {
   "cell_type": "code",
   "execution_count": 6,
   "id": "1d6d30cd",
   "metadata": {},
   "outputs": [
    {
     "data": {
      "text/plain": [
       "<sklearn.metrics._plot.confusion_matrix.ConfusionMatrixDisplay at 0x7f29a8d43fd0>"
      ]
     },
     "execution_count": 6,
     "metadata": {},
     "output_type": "execute_result"
    },
    {
     "data": {
      "image/png": "[encoded data removed]",
      "text/plain": [
       "<Figure size 432x288 with 2 Axes>"
      ]
     },
     "metadata": {
      "needs_background": "light"
     },
     "output_type": "display_data"
    }
   ],
   "source": [
    "threshold = 0.5\n",
    "out = []\n",
    "for i in model.predict_proba(tokens_2020):\n",
    "    if i[2] > threshold:\n",
    "        out.append(\"profit\")\n",
    "    elif i[1] > threshold:\n",
    "        out.append(\"nil\")\n",
    "    else:\n",
    "        out.append(\"loss\")\n",
    "profit_2020_pred = np.array(out).astype(object)\n",
    "\n",
    "ConfusionMatrixDisplay.from_predictions(profit_2020, profit_2020_pred)"
   ]
  },
  {
   "cell_type": "markdown",
   "id": "9a633cbe",
   "metadata": {},
   "source": [
    "# Expt 2"
   ]
  },
  {
   "cell_type": "code",
   "execution_count": 7,
   "id": "6f216561",
   "metadata": {},
   "outputs": [
    {
     "name": "stdout",
     "output_type": "stream",
     "text": [
      "The mean cross-validation accuracy is: 0.810 +/- 0.007\n",
      "model score: 0.8126\n"
     ]
    },
    {
     "data": {
      "text/plain": [
       "<sklearn.metrics._plot.confusion_matrix.ConfusionMatrixDisplay at 0x7f2a201f60d0>"
      ]
     },
     "execution_count": 7,
     "metadata": {},
     "output_type": "execute_result"
    },
    {
     "data": {
      "image/png": "[encoded data removed]",
      "text/plain": [
       "<Figure size 432x288 with 2 Axes>"
      ]
     },
     "metadata": {
      "needs_background": "light"
     },
     "output_type": "display_data"
    }
   ],
   "source": [
    "# create logistic regression pipeline\n",
    "model = make_pipeline(preproc,\n",
    "                      GradientBoostingClassifier(n_estimators=100, learning_rate=1.0, max_depth=1, random_state=0))\n",
    "\n",
    "# cross-validation\n",
    "cv = cross_validate(model, tokens_2020, profit_2020, cv = 5)\n",
    "scores = cv[\"test_score\"]\n",
    "print(\"The mean cross-validation accuracy is: \"\n",
    "      f\"{scores.mean():.3f} +/- {scores.std():.3f}\")\n",
    "\n",
    "# fit the model to 2019 data\n",
    "model.fit(tokens_2019, profit_2019)\n",
    "\n",
    "# score the model on 2020 data\n",
    "print(f\"model score: {model.score(tokens_2020, profit_2020)}\")\n",
    "\n",
    "# confusion matrix\n",
    "ConfusionMatrixDisplay.from_estimator(model, tokens_2020, profit_2020)"
   ]
  },
  {
   "cell_type": "code",
   "execution_count": 8,
   "id": "3679dd94",
   "metadata": {},
   "outputs": [
    {
     "data": {
      "text/plain": [
       "<AxesSubplot:>"
      ]
     },
     "execution_count": 8,
     "metadata": {},
     "output_type": "execute_result"
    },
    {
     "data": {
      "image/png": "[encoded data removed]",
      "text/plain": [
       "<Figure size 432x288 with 1 Axes>"
      ]
     },
     "metadata": {
      "needs_background": "light"
     },
     "output_type": "display_data"
    }
   ],
   "source": [
    "# visualization\n",
    "profit_2020_pred = model.predict(tokens_2020)\n",
    "tokens_2020_pred_profit = tokens_2020[profit_2020_pred == 'profit']\n",
    "\n",
    "tokens_2020_pred_profit['attribute0'].value_counts()[:10].plot.bar()"
   ]
  },
  {
   "cell_type": "code",
   "execution_count": 9,
   "id": "f93812e1",
   "metadata": {},
   "outputs": [
    {
     "data": {
      "text/plain": [
       "<AxesSubplot:>"
      ]
     },
     "execution_count": 9,
     "metadata": {},
     "output_type": "execute_result"
    },
    {
     "data": {
      "image/png": "[encoded data removed]",
      "text/plain": [
       "<Figure size 432x288 with 1 Axes>"
      ]
     },
     "metadata": {
      "needs_background": "light"
     },
     "output_type": "display_data"
    }
   ],
   "source": [
    "tokens_2020_pred_profit['attribute1'].value_counts()[:10].plot.bar()"
   ]
  },
  {
   "cell_type": "code",
   "execution_count": 10,
   "id": "379ef712",
   "metadata": {},
   "outputs": [
    {
     "data": {
      "text/plain": [
       "<AxesSubplot:>"
      ]
     },
     "execution_count": 10,
     "metadata": {},
     "output_type": "execute_result"
    },
    {
     "data": {
      "image/png": "[encoded data removed]",
      "text/plain": [
       "<Figure size 432x288 with 1 Axes>"
      ]
     },
     "metadata": {
      "needs_background": "light"
     },
     "output_type": "display_data"
    }
   ],
   "source": [
    "tokens_2020_pred_profit['attribute2'].value_counts()[:10].plot.bar()"
   ]
  }
 ],
 "metadata": {
  "kernelspec": {
   "display_name": "Python 3 (ipykernel)",
   "language": "python",
   "name": "python3"
  },
  "language_info": {
   "codemirror_mode": {
    "name": "ipython",
    "version": 3
   },
   "file_extension": ".py",
   "mimetype": "text/x-python",
   "name": "python",
   "nbconvert_exporter": "python",
   "pygments_lexer": "ipython3",
   "version": "3.8.10"
  }
 },
 "nbformat": 4,
 "nbformat_minor": 5
}
